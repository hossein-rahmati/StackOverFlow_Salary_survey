{
 "cells": [
  {
   "cell_type": "markdown",
   "id": "eff3de6e",
   "metadata": {},
   "source": [
    "# Stack over flow salary survey"
   ]
  },
  {
   "cell_type": "markdown",
   "id": "8942bbf4",
   "metadata": {},
   "source": [
    "### importing libraries"
   ]
  },
  {
   "cell_type": "code",
   "execution_count": 12,
   "id": "33522935",
   "metadata": {},
   "outputs": [],
   "source": [
    "import pandas as pd\n",
    "import numpy as np\n",
    "import seaborn as sns\n",
    "import matplotlib.pyplot as plt"
   ]
  },
  {
   "cell_type": "markdown",
   "id": "a3a5790d",
   "metadata": {},
   "source": [
    "### Data preprocessing"
   ]
  },
  {
   "cell_type": "code",
   "execution_count": 13,
   "id": "d13f2b17",
   "metadata": {},
   "outputs": [
    {
     "data": {
      "application/vnd.microsoft.datawrangler.viewer.v0+json": {
       "columns": [
        {
         "name": "index",
         "rawType": "int64",
         "type": "integer"
        },
        {
         "name": "ResponseId",
         "rawType": "int64",
         "type": "integer"
        },
        {
         "name": "Age",
         "rawType": "object",
         "type": "string"
        },
        {
         "name": "Employment",
         "rawType": "object",
         "type": "string"
        },
        {
         "name": "RemoteWork",
         "rawType": "object",
         "type": "unknown"
        },
        {
         "name": "EdLevel",
         "rawType": "object",
         "type": "string"
        },
        {
         "name": "YearsCode",
         "rawType": "object",
         "type": "unknown"
        },
        {
         "name": "YearsCodePro",
         "rawType": "object",
         "type": "unknown"
        },
        {
         "name": "Country",
         "rawType": "object",
         "type": "string"
        },
        {
         "name": "LanguageHaveWorkedWith",
         "rawType": "object",
         "type": "unknown"
        },
        {
         "name": "JobSat",
         "rawType": "float64",
         "type": "float"
        }
       ],
       "ref": "0e346072-f09c-4308-9a68-c5952b67013d",
       "rows": [
        [
         "0",
         "1",
         "Under 18 years old",
         "Employed, full-time",
         "Remote",
         "Primary/elementary school",
         null,
         null,
         "United States of America",
         null,
         null
        ],
        [
         "1",
         "2",
         "35-44 years old",
         "Employed, full-time",
         "Remote",
         "Bachelor’s degree (B.A., B.S., B.Eng., etc.)",
         "20",
         "17",
         "United Kingdom of Great Britain and Northern Ireland",
         "Bash/Shell (all shells);Go;HTML/CSS;Java;JavaScript;Python;TypeScript",
         null
        ],
        [
         "2",
         "3",
         "45-54 years old",
         "Employed, full-time",
         "Remote",
         "Master’s degree (M.A., M.S., M.Eng., MBA, etc.)",
         "37",
         "27",
         "United Kingdom of Great Britain and Northern Ireland",
         "C#",
         null
        ],
        [
         "3",
         "4",
         "18-24 years old",
         "Student, full-time",
         null,
         "Some college/university study without earning a degree",
         "4",
         null,
         "Canada",
         "C;C++;HTML/CSS;Java;JavaScript;PHP;PowerShell;Python;SQL;TypeScript",
         null
        ],
        [
         "4",
         "5",
         "18-24 years old",
         "Student, full-time",
         null,
         "Secondary school (e.g. American high school, German Realschule or Gymnasium, etc.)",
         "9",
         null,
         "Norway",
         "C++;HTML/CSS;JavaScript;Lua;Python;Rust",
         null
        ]
       ],
       "shape": {
        "columns": 10,
        "rows": 5
       }
      },
      "text/html": [
       "<div>\n",
       "<style scoped>\n",
       "    .dataframe tbody tr th:only-of-type {\n",
       "        vertical-align: middle;\n",
       "    }\n",
       "\n",
       "    .dataframe tbody tr th {\n",
       "        vertical-align: top;\n",
       "    }\n",
       "\n",
       "    .dataframe thead th {\n",
       "        text-align: right;\n",
       "    }\n",
       "</style>\n",
       "<table border=\"1\" class=\"dataframe\">\n",
       "  <thead>\n",
       "    <tr style=\"text-align: right;\">\n",
       "      <th></th>\n",
       "      <th>ResponseId</th>\n",
       "      <th>Age</th>\n",
       "      <th>Employment</th>\n",
       "      <th>RemoteWork</th>\n",
       "      <th>EdLevel</th>\n",
       "      <th>YearsCode</th>\n",
       "      <th>YearsCodePro</th>\n",
       "      <th>Country</th>\n",
       "      <th>LanguageHaveWorkedWith</th>\n",
       "      <th>JobSat</th>\n",
       "    </tr>\n",
       "  </thead>\n",
       "  <tbody>\n",
       "    <tr>\n",
       "      <th>0</th>\n",
       "      <td>1</td>\n",
       "      <td>Under 18 years old</td>\n",
       "      <td>Employed, full-time</td>\n",
       "      <td>Remote</td>\n",
       "      <td>Primary/elementary school</td>\n",
       "      <td>NaN</td>\n",
       "      <td>NaN</td>\n",
       "      <td>United States of America</td>\n",
       "      <td>NaN</td>\n",
       "      <td>NaN</td>\n",
       "    </tr>\n",
       "    <tr>\n",
       "      <th>1</th>\n",
       "      <td>2</td>\n",
       "      <td>35-44 years old</td>\n",
       "      <td>Employed, full-time</td>\n",
       "      <td>Remote</td>\n",
       "      <td>Bachelor’s degree (B.A., B.S., B.Eng., etc.)</td>\n",
       "      <td>20</td>\n",
       "      <td>17</td>\n",
       "      <td>United Kingdom of Great Britain and Northern I...</td>\n",
       "      <td>Bash/Shell (all shells);Go;HTML/CSS;Java;JavaS...</td>\n",
       "      <td>NaN</td>\n",
       "    </tr>\n",
       "    <tr>\n",
       "      <th>2</th>\n",
       "      <td>3</td>\n",
       "      <td>45-54 years old</td>\n",
       "      <td>Employed, full-time</td>\n",
       "      <td>Remote</td>\n",
       "      <td>Master’s degree (M.A., M.S., M.Eng., MBA, etc.)</td>\n",
       "      <td>37</td>\n",
       "      <td>27</td>\n",
       "      <td>United Kingdom of Great Britain and Northern I...</td>\n",
       "      <td>C#</td>\n",
       "      <td>NaN</td>\n",
       "    </tr>\n",
       "    <tr>\n",
       "      <th>3</th>\n",
       "      <td>4</td>\n",
       "      <td>18-24 years old</td>\n",
       "      <td>Student, full-time</td>\n",
       "      <td>NaN</td>\n",
       "      <td>Some college/university study without earning ...</td>\n",
       "      <td>4</td>\n",
       "      <td>NaN</td>\n",
       "      <td>Canada</td>\n",
       "      <td>C;C++;HTML/CSS;Java;JavaScript;PHP;PowerShell;...</td>\n",
       "      <td>NaN</td>\n",
       "    </tr>\n",
       "    <tr>\n",
       "      <th>4</th>\n",
       "      <td>5</td>\n",
       "      <td>18-24 years old</td>\n",
       "      <td>Student, full-time</td>\n",
       "      <td>NaN</td>\n",
       "      <td>Secondary school (e.g. American high school, G...</td>\n",
       "      <td>9</td>\n",
       "      <td>NaN</td>\n",
       "      <td>Norway</td>\n",
       "      <td>C++;HTML/CSS;JavaScript;Lua;Python;Rust</td>\n",
       "      <td>NaN</td>\n",
       "    </tr>\n",
       "  </tbody>\n",
       "</table>\n",
       "</div>"
      ],
      "text/plain": [
       "   ResponseId                 Age           Employment RemoteWork  \\\n",
       "0           1  Under 18 years old  Employed, full-time     Remote   \n",
       "1           2     35-44 years old  Employed, full-time     Remote   \n",
       "2           3     45-54 years old  Employed, full-time     Remote   \n",
       "3           4     18-24 years old   Student, full-time        NaN   \n",
       "4           5     18-24 years old   Student, full-time        NaN   \n",
       "\n",
       "                                             EdLevel YearsCode YearsCodePro  \\\n",
       "0                          Primary/elementary school       NaN          NaN   \n",
       "1       Bachelor’s degree (B.A., B.S., B.Eng., etc.)        20           17   \n",
       "2    Master’s degree (M.A., M.S., M.Eng., MBA, etc.)        37           27   \n",
       "3  Some college/university study without earning ...         4          NaN   \n",
       "4  Secondary school (e.g. American high school, G...         9          NaN   \n",
       "\n",
       "                                             Country  \\\n",
       "0                           United States of America   \n",
       "1  United Kingdom of Great Britain and Northern I...   \n",
       "2  United Kingdom of Great Britain and Northern I...   \n",
       "3                                             Canada   \n",
       "4                                             Norway   \n",
       "\n",
       "                              LanguageHaveWorkedWith  JobSat  \n",
       "0                                                NaN     NaN  \n",
       "1  Bash/Shell (all shells);Go;HTML/CSS;Java;JavaS...     NaN  \n",
       "2                                                 C#     NaN  \n",
       "3  C;C++;HTML/CSS;Java;JavaScript;PHP;PowerShell;...     NaN  \n",
       "4            C++;HTML/CSS;JavaScript;Lua;Python;Rust     NaN  "
      ]
     },
     "execution_count": 13,
     "metadata": {},
     "output_type": "execute_result"
    }
   ],
   "source": [
    "ds = pd.read_csv(\"../Data/survey_results_public.csv\")\n",
    "ds.head()"
   ]
  },
  {
   "cell_type": "markdown",
   "id": "2c72bf1a",
   "metadata": {},
   "source": [
    "### Handle missing data"
   ]
  },
  {
   "cell_type": "code",
   "execution_count": 14,
   "id": "d99cc9da",
   "metadata": {},
   "outputs": [],
   "source": [
    "from sklearn.impute import SimpleImputer\n",
    "\n",
    "columns_to_impute = [\n",
    "    \"Age\",\n",
    "    \"Employment\",\n",
    "    \"RemoteWork\",\n",
    "    \"EdLevel\",\n",
    "    \"Country\",\n",
    "    \"LanguageHaveWorkedWith\",\n",
    "    \"YearsCode\",\n",
    "    \"YearsCodePro\",\n",
    "    \"JobSat\",\n",
    "]\n",
    "\n",
    "imputer = SimpleImputer(missing_values=np.nan, strategy=\"most_frequent\")\n",
    "imputer.fit(ds[columns_to_impute])\n",
    "ds[columns_to_impute] = imputer.transform(ds[columns_to_impute])"
   ]
  },
  {
   "cell_type": "code",
   "execution_count": 15,
   "id": "a3ba2efc",
   "metadata": {},
   "outputs": [
    {
     "data": {
      "application/vnd.microsoft.datawrangler.viewer.v0+json": {
       "columns": [
        {
         "name": "index",
         "rawType": "int64",
         "type": "integer"
        },
        {
         "name": "ResponseId",
         "rawType": "int64",
         "type": "integer"
        },
        {
         "name": "Age",
         "rawType": "object",
         "type": "string"
        },
        {
         "name": "Employment",
         "rawType": "object",
         "type": "string"
        },
        {
         "name": "RemoteWork",
         "rawType": "object",
         "type": "string"
        },
        {
         "name": "EdLevel",
         "rawType": "object",
         "type": "string"
        },
        {
         "name": "YearsCode",
         "rawType": "object",
         "type": "string"
        },
        {
         "name": "YearsCodePro",
         "rawType": "object",
         "type": "string"
        },
        {
         "name": "Country",
         "rawType": "object",
         "type": "string"
        },
        {
         "name": "LanguageHaveWorkedWith",
         "rawType": "object",
         "type": "string"
        },
        {
         "name": "JobSat",
         "rawType": "object",
         "type": "unknown"
        }
       ],
       "ref": "8ed7d3e2-d62b-45b5-ad6c-5bb80704fce8",
       "rows": [
        [
         "0",
         "1",
         "Under 18 years old",
         "Employed, full-time",
         "Remote",
         "Primary/elementary school",
         "10",
         "2",
         "United States of America",
         "HTML/CSS;JavaScript;TypeScript",
         "8.0"
        ],
        [
         "1",
         "2",
         "35-44 years old",
         "Employed, full-time",
         "Remote",
         "Bachelor’s degree (B.A., B.S., B.Eng., etc.)",
         "20",
         "17",
         "United Kingdom of Great Britain and Northern Ireland",
         "Bash/Shell (all shells);Go;HTML/CSS;Java;JavaScript;Python;TypeScript",
         "8.0"
        ],
        [
         "2",
         "3",
         "45-54 years old",
         "Employed, full-time",
         "Remote",
         "Master’s degree (M.A., M.S., M.Eng., MBA, etc.)",
         "37",
         "27",
         "United Kingdom of Great Britain and Northern Ireland",
         "C#",
         "8.0"
        ],
        [
         "3",
         "4",
         "18-24 years old",
         "Student, full-time",
         "Hybrid (some remote, some in-person)",
         "Some college/university study without earning a degree",
         "4",
         "2",
         "Canada",
         "C;C++;HTML/CSS;Java;JavaScript;PHP;PowerShell;Python;SQL;TypeScript",
         "8.0"
        ],
        [
         "4",
         "5",
         "18-24 years old",
         "Student, full-time",
         "Hybrid (some remote, some in-person)",
         "Secondary school (e.g. American high school, German Realschule or Gymnasium, etc.)",
         "9",
         "2",
         "Norway",
         "C++;HTML/CSS;JavaScript;Lua;Python;Rust",
         "8.0"
        ]
       ],
       "shape": {
        "columns": 10,
        "rows": 5
       }
      },
      "text/html": [
       "<div>\n",
       "<style scoped>\n",
       "    .dataframe tbody tr th:only-of-type {\n",
       "        vertical-align: middle;\n",
       "    }\n",
       "\n",
       "    .dataframe tbody tr th {\n",
       "        vertical-align: top;\n",
       "    }\n",
       "\n",
       "    .dataframe thead th {\n",
       "        text-align: right;\n",
       "    }\n",
       "</style>\n",
       "<table border=\"1\" class=\"dataframe\">\n",
       "  <thead>\n",
       "    <tr style=\"text-align: right;\">\n",
       "      <th></th>\n",
       "      <th>ResponseId</th>\n",
       "      <th>Age</th>\n",
       "      <th>Employment</th>\n",
       "      <th>RemoteWork</th>\n",
       "      <th>EdLevel</th>\n",
       "      <th>YearsCode</th>\n",
       "      <th>YearsCodePro</th>\n",
       "      <th>Country</th>\n",
       "      <th>LanguageHaveWorkedWith</th>\n",
       "      <th>JobSat</th>\n",
       "    </tr>\n",
       "  </thead>\n",
       "  <tbody>\n",
       "    <tr>\n",
       "      <th>0</th>\n",
       "      <td>1</td>\n",
       "      <td>Under 18 years old</td>\n",
       "      <td>Employed, full-time</td>\n",
       "      <td>Remote</td>\n",
       "      <td>Primary/elementary school</td>\n",
       "      <td>10</td>\n",
       "      <td>2</td>\n",
       "      <td>United States of America</td>\n",
       "      <td>HTML/CSS;JavaScript;TypeScript</td>\n",
       "      <td>8.0</td>\n",
       "    </tr>\n",
       "    <tr>\n",
       "      <th>1</th>\n",
       "      <td>2</td>\n",
       "      <td>35-44 years old</td>\n",
       "      <td>Employed, full-time</td>\n",
       "      <td>Remote</td>\n",
       "      <td>Bachelor’s degree (B.A., B.S., B.Eng., etc.)</td>\n",
       "      <td>20</td>\n",
       "      <td>17</td>\n",
       "      <td>United Kingdom of Great Britain and Northern I...</td>\n",
       "      <td>Bash/Shell (all shells);Go;HTML/CSS;Java;JavaS...</td>\n",
       "      <td>8.0</td>\n",
       "    </tr>\n",
       "    <tr>\n",
       "      <th>2</th>\n",
       "      <td>3</td>\n",
       "      <td>45-54 years old</td>\n",
       "      <td>Employed, full-time</td>\n",
       "      <td>Remote</td>\n",
       "      <td>Master’s degree (M.A., M.S., M.Eng., MBA, etc.)</td>\n",
       "      <td>37</td>\n",
       "      <td>27</td>\n",
       "      <td>United Kingdom of Great Britain and Northern I...</td>\n",
       "      <td>C#</td>\n",
       "      <td>8.0</td>\n",
       "    </tr>\n",
       "    <tr>\n",
       "      <th>3</th>\n",
       "      <td>4</td>\n",
       "      <td>18-24 years old</td>\n",
       "      <td>Student, full-time</td>\n",
       "      <td>Hybrid (some remote, some in-person)</td>\n",
       "      <td>Some college/university study without earning ...</td>\n",
       "      <td>4</td>\n",
       "      <td>2</td>\n",
       "      <td>Canada</td>\n",
       "      <td>C;C++;HTML/CSS;Java;JavaScript;PHP;PowerShell;...</td>\n",
       "      <td>8.0</td>\n",
       "    </tr>\n",
       "    <tr>\n",
       "      <th>4</th>\n",
       "      <td>5</td>\n",
       "      <td>18-24 years old</td>\n",
       "      <td>Student, full-time</td>\n",
       "      <td>Hybrid (some remote, some in-person)</td>\n",
       "      <td>Secondary school (e.g. American high school, G...</td>\n",
       "      <td>9</td>\n",
       "      <td>2</td>\n",
       "      <td>Norway</td>\n",
       "      <td>C++;HTML/CSS;JavaScript;Lua;Python;Rust</td>\n",
       "      <td>8.0</td>\n",
       "    </tr>\n",
       "  </tbody>\n",
       "</table>\n",
       "</div>"
      ],
      "text/plain": [
       "   ResponseId                 Age           Employment  \\\n",
       "0           1  Under 18 years old  Employed, full-time   \n",
       "1           2     35-44 years old  Employed, full-time   \n",
       "2           3     45-54 years old  Employed, full-time   \n",
       "3           4     18-24 years old   Student, full-time   \n",
       "4           5     18-24 years old   Student, full-time   \n",
       "\n",
       "                             RemoteWork  \\\n",
       "0                                Remote   \n",
       "1                                Remote   \n",
       "2                                Remote   \n",
       "3  Hybrid (some remote, some in-person)   \n",
       "4  Hybrid (some remote, some in-person)   \n",
       "\n",
       "                                             EdLevel YearsCode YearsCodePro  \\\n",
       "0                          Primary/elementary school        10            2   \n",
       "1       Bachelor’s degree (B.A., B.S., B.Eng., etc.)        20           17   \n",
       "2    Master’s degree (M.A., M.S., M.Eng., MBA, etc.)        37           27   \n",
       "3  Some college/university study without earning ...         4            2   \n",
       "4  Secondary school (e.g. American high school, G...         9            2   \n",
       "\n",
       "                                             Country  \\\n",
       "0                           United States of America   \n",
       "1  United Kingdom of Great Britain and Northern I...   \n",
       "2  United Kingdom of Great Britain and Northern I...   \n",
       "3                                             Canada   \n",
       "4                                             Norway   \n",
       "\n",
       "                              LanguageHaveWorkedWith JobSat  \n",
       "0                     HTML/CSS;JavaScript;TypeScript    8.0  \n",
       "1  Bash/Shell (all shells);Go;HTML/CSS;Java;JavaS...    8.0  \n",
       "2                                                 C#    8.0  \n",
       "3  C;C++;HTML/CSS;Java;JavaScript;PHP;PowerShell;...    8.0  \n",
       "4            C++;HTML/CSS;JavaScript;Lua;Python;Rust    8.0  "
      ]
     },
     "execution_count": 15,
     "metadata": {},
     "output_type": "execute_result"
    }
   ],
   "source": [
    "ds.head()"
   ]
  },
  {
   "cell_type": "code",
   "execution_count": 16,
   "id": "e4c40d1e",
   "metadata": {},
   "outputs": [
    {
     "data": {
      "application/vnd.microsoft.datawrangler.viewer.v0+json": {
       "columns": [
        {
         "name": "index",
         "rawType": "object",
         "type": "string"
        },
        {
         "name": "0",
         "rawType": "int64",
         "type": "integer"
        }
       ],
       "ref": "73856974-5e1e-4db2-871b-cb10b0ac8956",
       "rows": [
        [
         "ResponseId",
         "0"
        ],
        [
         "Age",
         "0"
        ],
        [
         "Employment",
         "0"
        ],
        [
         "RemoteWork",
         "0"
        ],
        [
         "EdLevel",
         "0"
        ],
        [
         "YearsCode",
         "0"
        ],
        [
         "YearsCodePro",
         "0"
        ],
        [
         "Country",
         "0"
        ],
        [
         "LanguageHaveWorkedWith",
         "0"
        ],
        [
         "JobSat",
         "0"
        ]
       ],
       "shape": {
        "columns": 1,
        "rows": 10
       }
      },
      "text/plain": [
       "ResponseId                0\n",
       "Age                       0\n",
       "Employment                0\n",
       "RemoteWork                0\n",
       "EdLevel                   0\n",
       "YearsCode                 0\n",
       "YearsCodePro              0\n",
       "Country                   0\n",
       "LanguageHaveWorkedWith    0\n",
       "JobSat                    0\n",
       "dtype: int64"
      ]
     },
     "execution_count": 16,
     "metadata": {},
     "output_type": "execute_result"
    }
   ],
   "source": [
    "ds.isnull().sum()"
   ]
  },
  {
   "cell_type": "markdown",
   "id": "40a3afcc",
   "metadata": {},
   "source": [
    "### Now that we handled the missing data, we split the dataset"
   ]
  },
  {
   "cell_type": "code",
   "execution_count": 17,
   "id": "e49024cb",
   "metadata": {},
   "outputs": [
    {
     "name": "stdout",
     "output_type": "stream",
     "text": [
      "[['Under 18 years old' 'Employed, full-time' 'Remote' ... '2'\n",
      "  'United States of America' 'HTML/CSS;JavaScript;TypeScript']\n",
      " ['35-44 years old' 'Employed, full-time' 'Remote' ... '17'\n",
      "  'United Kingdom of Great Britain and Northern Ireland'\n",
      "  'Bash/Shell (all shells);Go;HTML/CSS;Java;JavaScript;Python;TypeScript']\n",
      " ['45-54 years old' 'Employed, full-time' 'Remote' ... '27'\n",
      "  'United Kingdom of Great Britain and Northern Ireland' 'C#']\n",
      " ...\n",
      " ['25-34 years old' 'Employed, full-time' 'In-person' ... '5'\n",
      "  'United States of America' 'HTML/CSS;JavaScript;TypeScript']\n",
      " ['18-24 years old' 'Employed, full-time'\n",
      "  'Hybrid (some remote, some in-person)' ... '2' 'Germany'\n",
      "  'C;C++;Go;Lua;Objective-C;Python;Rust;SQL']\n",
      " ['18-24 years old' 'Student, full-time'\n",
      "  'Hybrid (some remote, some in-person)' ... '2'\n",
      "  'United States of America'\n",
      "  'C;HTML/CSS;Java;JavaScript;PHP;Python;TypeScript']]\n"
     ]
    }
   ],
   "source": [
    "X = ds.iloc[:, 1:-1].values\n",
    "y = ds.iloc[:, -1].values\n",
    "\n",
    "print(X)"
   ]
  },
  {
   "cell_type": "code",
   "execution_count": null,
   "id": "5d71649e",
   "metadata": {},
   "outputs": [
    {
     "ename": "IndexError",
     "evalue": "only integers, slices (`:`), ellipsis (`...`), numpy.newaxis (`None`) and integer or boolean arrays are valid indices",
     "output_type": "error",
     "traceback": [
      "\u001b[1;31m---------------------------------------------------------------------------\u001b[0m",
      "\u001b[1;31mIndexError\u001b[0m                                Traceback (most recent call last)",
      "Cell \u001b[1;32mIn[25], line 4\u001b[0m\n\u001b[0;32m      1\u001b[0m \u001b[38;5;28;01mfrom\u001b[39;00m \u001b[38;5;21;01msklearn\u001b[39;00m\u001b[38;5;21;01m.\u001b[39;00m\u001b[38;5;21;01mpreprocessing\u001b[39;00m \u001b[38;5;28;01mimport\u001b[39;00m OneHotEncoder\n\u001b[0;32m      3\u001b[0m ohe \u001b[38;5;241m=\u001b[39m OneHotEncoder()\n\u001b[1;32m----> 4\u001b[0m encoded_data \u001b[38;5;241m=\u001b[39m ohe\u001b[38;5;241m.\u001b[39mfit_transform(X[[\u001b[38;5;124m'\u001b[39m\u001b[38;5;124m0\u001b[39m\u001b[38;5;124m'\u001b[39m]])\n\u001b[0;32m      5\u001b[0m \u001b[38;5;28mprint\u001b[39m(X)\n",
      "\u001b[1;31mIndexError\u001b[0m: only integers, slices (`:`), ellipsis (`...`), numpy.newaxis (`None`) and integer or boolean arrays are valid indices"
     ]
    }
   ],
   "source": []
  },
  {
   "cell_type": "markdown",
   "id": "71f79a5c",
   "metadata": {},
   "source": [
    "### Splitting the dataset into the Training set and Test set"
   ]
  },
  {
   "cell_type": "code",
   "execution_count": 11,
   "id": "a5ef69bf",
   "metadata": {},
   "outputs": [],
   "source": [
    "from sklearn.model_selection import train_test_split\n",
    "\n",
    "X_train, X_test, y_train, y_test = train_test_split(X, y, test_size=0.2, random_state=1)"
   ]
  }
 ],
 "metadata": {
  "kernelspec": {
   "display_name": "base",
   "language": "python",
   "name": "python3"
  },
  "language_info": {
   "codemirror_mode": {
    "name": "ipython",
    "version": 3
   },
   "file_extension": ".py",
   "mimetype": "text/x-python",
   "name": "python",
   "nbconvert_exporter": "python",
   "pygments_lexer": "ipython3",
   "version": "3.12.7"
  }
 },
 "nbformat": 4,
 "nbformat_minor": 5
}
